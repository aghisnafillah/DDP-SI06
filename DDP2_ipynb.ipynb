{
  "nbformat": 4,
  "nbformat_minor": 0,
  "metadata": {
    "colab": {
      "provenance": [],
      "authorship_tag": "ABX9TyNzkCas4YvqYOBqrGsgMRt7",
      "include_colab_link": true
    },
    "kernelspec": {
      "name": "python3",
      "display_name": "Python 3"
    },
    "language_info": {
      "name": "python"
    }
  },
  "cells": [
    {
      "cell_type": "markdown",
      "metadata": {
        "id": "view-in-github",
        "colab_type": "text"
      },
      "source": [
        "<a href=\"https://colab.research.google.com/github/aghisnafillah/DDP-SI06/blob/main/DDP2_ipynb.ipynb\" target=\"_parent\"><img src=\"https://colab.research.google.com/assets/colab-badge.svg\" alt=\"Open In Colab\"/></a>"
      ]
    },
    {
      "cell_type": "code",
      "execution_count": null,
      "metadata": {
        "colab": {
          "base_uri": "https://localhost:8080/"
        },
        "id": "KydzRvsKwYF4",
        "outputId": "65ab9385-81b2-434b-b80b-d0b1f0c0b632"
      },
      "outputs": [
        {
          "output_type": "stream",
          "name": "stdout",
          "text": [
            "\n",
            "==== NO 1 ====\n",
            "nama : Aghisna fillah nur kholifah \n",
            "nim : 0110124062\n",
            "rombel : si 06\n",
            "nama asdos : Muhamad Al Fikri\n"
          ]
        }
      ],
      "source": [
        "print('\\n==== NO 1 ====')\n",
        "\n",
        "print(\"nama : Aghisna fillah nur kholifah\")\n",
        "print(\"nim : 0110124062\")\n",
        "print(\"rombel : si 06\")\n",
        "print(\"nama asdos : Muhamad Al Fikri\")"
      ]
    }
  ]
}