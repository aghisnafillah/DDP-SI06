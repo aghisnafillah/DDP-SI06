{
  "cells": [
    {
      "cell_type": "markdown",
      "metadata": {
        "id": "view-in-github",
        "colab_type": "text"
      },
      "source": [
        "<a href=\"https://colab.research.google.com/github/aghisnafillah/DDP-SI06/blob/main/DDP3.ipynb\" target=\"_parent\"><img src=\"https://colab.research.google.com/assets/colab-badge.svg\" alt=\"Open In Colab\"/></a>"
      ]
    },
    {
      "cell_type": "code",
      "execution_count": null,
      "metadata": {
        "colab": {
          "base_uri": "https://localhost:8080/"
        },
        "id": "QD8FH-teGQFw",
        "outputId": "85ea8f4d-ca4a-4581-a5aa-910fe98015d8"
      },
      "outputs": [
        {
          "output_type": "stream",
          "name": "stdout",
          "text": [
            "\n",
            " ==== NO 1 ====\n",
            "Nama: aghisna fillah nur kholifah\n",
            "Nim: 0110124062\n",
            "Rombel: Si06\n",
            "No_telpon: 085891980804\n",
            "Alamat: Depok, margonda jl.stm mandiri\n",
            "\n",
            " ==== NO 2 ====\n",
            "Nama: naesila\n",
            "Nim: 0110124113\n",
            "Rombel: Si06\n",
            "No_telpon: 081514124732\n",
            "Alamat: Kp.pabuaran desa urug kec.sukmajaya\n",
            "\n",
            " ==== NO 3 ====\n",
            "masukan tinggi badan:163\n",
            "berat badan ideal adalah : 56.7\n",
            "\n",
            " ===== NO 4 =====\n",
            "masukan suhu dalam celcius: 4\n",
            "4 derajat celcius sama dengan 39.2 derajat Fahrenheit.\n"
          ]
        }
      ],
      "source": [
        "print(\"\\n ==== NO 1 ====\")\n",
        "\n",
        "Nama= \"aghisna fillah nur kholifah\"\n",
        "Nim= \"0110124062\"\n",
        "Rombel= \"Si06\"\n",
        "No_telpon= \"085891980804\"\n",
        "Alamat= \"\"\"Depok, margonda jl.stm mandiri\"\"\"\n",
        "\n",
        "print (\"Nama:\", Nama)\n",
        "print (\"Nim:\", Nim)\n",
        "print (\"Rombel:\", Rombel)\n",
        "print (\"No_telpon:\", No_telpon)\n",
        "print (\"Alamat:\", Alamat)\n",
        "\n",
        "print(\"\\n ==== NO 2 ====\")\n",
        "\n",
        "Nama= \"naesila\"\n",
        "Nim= \"0110124113\"\n",
        "Rombel= \"Si06\"\n",
        "No_telpon= \"081514124732\"\n",
        "Alamat= \"\"\"Kp.pabuaran desa urug kec.sukmajaya\"\"\"\n",
        "\n",
        "print (\"Nama:\", Nama)\n",
        "print (\"Nim:\", Nim)\n",
        "print (\"Rombel:\", Rombel)\n",
        "print (\"No_telpon:\", No_telpon)\n",
        "print (\"Alamat:\", Alamat)\n",
        "\n",
        "print(\"\\n ==== NO 3 ====\")\n",
        "\n",
        "#rumus = (tinggi badan - 100) - (tinggi badan - 100) * 0.1\n",
        "TB = int(input(\"masukan tinggi badan:\"))\n",
        "bb_ideal = (TB - 100) - (TB - 100) * 0.1\n",
        "\n",
        "print(\"berat badan ideal adalah :\", bb_ideal)\n",
        "print(\"\\n ===== NO 4 =====\")\n",
        "\n",
        "celcius = int(input(\"masukan suhu dalam celcius: \"))\n",
        "fahrenheit = (celcius * 9/5) + 32\n",
        "\n",
        "print (celcius, \"derajat celcius sama dengan\", fahrenheit, \"derajat Fahrenheit.\")"
      ]
    }
  ],
  "metadata": {
    "colab": {
      "provenance": [],
      "authorship_tag": "ABX9TyO9APq/er6pmKZFRMaHv1//",
      "include_colab_link": true
    },
    "kernelspec": {
      "display_name": "Python 3",
      "name": "python3"
    },
    "language_info": {
      "name": "python"
    }
  },
  "nbformat": 4,
  "nbformat_minor": 0
}