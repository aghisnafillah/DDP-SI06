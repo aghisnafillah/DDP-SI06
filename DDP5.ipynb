{
  "nbformat": 4,
  "nbformat_minor": 0,
  "metadata": {
    "colab": {
      "provenance": [],
      "authorship_tag": "ABX9TyMfZDJLnoMZXYwAMgmmLzTb",
      "include_colab_link": true
    },
    "kernelspec": {
      "name": "python3",
      "display_name": "Python 3"
    },
    "language_info": {
      "name": "python"
    }
  },
  "cells": [
    {
      "cell_type": "markdown",
      "metadata": {
        "id": "view-in-github",
        "colab_type": "text"
      },
      "source": [
        "<a href=\"https://colab.research.google.com/github/aghisnafillah/DDP-SI06/blob/main/DDP_py.ipynb\" target=\"_parent\"><img src=\"https://colab.research.google.com/assets/colab-badge.svg\" alt=\"Open In Colab\"/></a>"
      ]
    },
    {
      "cell_type": "code",
      "execution_count": null,
      "metadata": {
        "colab": {
          "base_uri": "https://localhost:8080/"
        },
        "id": "OhOeYtdtj3Em",
        "outputId": "a3699c66-8caa-44cc-b2a8-46147d0c6667"
      },
      "outputs": [
        {
          "output_type": "stream",
          "name": "stdout",
          "text": [
            "selamat datang di aplikasi menghitung\n",
            "1. untuk menghitung luas persegi\n",
            "2. untuk menghitung luas lingkaran\n",
            "3. untuk menghitung luas segitiga\n",
            " masukan pilihan anda : \n",
            "1\n",
            "luas persegi\n",
            "masukan sisi persegi : 1\n",
            "luas persegi yang sisinya 1 adalah 1\n"
          ]
        }
      ],
      "source": [
        "\n",
        "\n",
        "#buat program python dengan match case\n",
        "\n",
        "pilih = int(input(\"\"\"selamat datang di aplikasi menghitung\n",
        "1. untuk menghitung luas persegi\n",
        "2. untuk menghitung luas lingkaran\n",
        "3. untuk menghitung luas segitiga\n",
        " masukan pilihan anda : \\n\"\"\"))\n",
        "\n",
        "match pilih:\n",
        "    case 1 :\n",
        "       print(\"luas persegi\")\n",
        "       sisi = int(input(\"masukan sisi persegi : \"))\n",
        "       luasPsg = sisi*sisi\n",
        "       print(\"luas persegi yang sisinya\",sisi, \"adalah\",luasPsg)\n",
        "\n",
        "    case 2 :\n",
        "       print(\"luas lingkaran\")\n",
        "       jari2 = int(input(\"masukan jari-jari : \"))\n",
        "       luaslkr = 3.14*jari2*jari2\n",
        "       print(\"luas lingkaran yang jari2 nya \",jari2, \"adalah\", luaslkr)\n",
        "\n",
        "    case 3 :\n",
        "       print(\"luas segitiga\")\n",
        "       tinggi = int(input(\"masukan tinggi segitiga: \"))\n",
        "       alas = int(input(\"masukan alas segitiga: \"))\n",
        "       luasSegitiga = 0.5*alas*tinggi\n",
        "       print(\"luas segitiga dengan alas \", alas, \"dan tinggi\", tinggi, \"adalah\", luasSegitiga)\n",
        "\n",
        "    case _:\n",
        "       print(\"Anda Salah Pilih\")"
      ]
    },
    {
      "cell_type": "code",
      "source": [
        "#buat variabel list dengan value\n",
        "\n",
        "spesifikasikendaraan = ['namakendaraan','jeniskendaraan','cckendaraan','warnakendaraan','roda kendaraan']\n",
        "print(spesifikasikendaraan)\n",
        "\n",
        "spesifikasikendaraan.append ('hargakendaraan')\n",
        "print(spesifikasikendaraan)\n",
        "spesifikasikendaraan.append ('tipekendaraan')\n",
        "print(spesifikasikendaraan)\n",
        "\n",
        "spesifikasikendaraan.insert (2,'merkkendaraan')\n",
        "print(spesifikasikendaraan)"
      ],
      "metadata": {
        "colab": {
          "base_uri": "https://localhost:8080/"
        },
        "id": "X1fG9glO_NB2",
        "outputId": "1fee2ea3-04bb-41b3-c9f8-07b31270c866"
      },
      "execution_count": null,
      "outputs": [
        {
          "output_type": "stream",
          "name": "stdout",
          "text": [
            "['namakendaraan', 'jeniskendaraan', 'cckendaraan', 'warnakendaraan', 'roda kendaraan']\n",
            "['namakendaraan', 'jeniskendaraan', 'cckendaraan', 'warnakendaraan', 'roda kendaraan', 'hargakendaraan']\n",
            "['namakendaraan', 'jeniskendaraan', 'cckendaraan', 'warnakendaraan', 'roda kendaraan', 'hargakendaraan', 'tipekendaraan']\n",
            "['namakendaraan', 'jeniskendaraan', 'merkkendaraan', 'cckendaraan', 'warnakendaraan', 'roda kendaraan', 'hargakendaraan', 'tipekendaraan']\n"
          ]
        }
      ]
    }
  ]
}
